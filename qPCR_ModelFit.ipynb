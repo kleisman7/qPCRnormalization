{
 "cells": [
  {
   "cell_type": "code",
   "execution_count": 1,
   "id": "77317680",
   "metadata": {},
   "outputs": [
    {
     "data": {
      "text/html": [
       "<style>.container { width:80% !important; }</style>"
      ],
      "text/plain": [
       "<IPython.core.display.HTML object>"
      ]
     },
     "metadata": {},
     "output_type": "display_data"
    },
    {
     "data": {
      "text/html": [
       "<style>.container { width:80% !important; }</style>"
      ],
      "text/plain": [
       "<IPython.core.display.HTML object>"
      ]
     },
     "metadata": {},
     "output_type": "display_data"
    }
   ],
   "source": [
    "import numpy as np\n",
    "import datetime\n",
    "import os\n",
    "import pandas as pd\n",
    "\n",
    "from IPython.display import display, HTML\n",
    "display(HTML(\"<style>.container { width:80% !important; }</style>\"))\n",
    "todaystring = datetime.date.today().strftime(\"%y%m%d\")\n",
    "\n",
    "import ModelFitFunctions\n",
    "from ModelFitFunctions import *"
   ]
  },
  {
   "cell_type": "markdown",
   "id": "9ffa1508",
   "metadata": {},
   "source": [
    "# Set Params"
   ]
  },
  {
   "cell_type": "code",
   "execution_count": 2,
   "id": "f7217558",
   "metadata": {},
   "outputs": [],
   "source": [
    "filepath = 'data'\n",
    "\n",
    "wbefile = 'data/wastewater.csv'\n",
    "\n",
    "prevfile = 'data/clinical.csv'\n",
    "namestring = '_qpcr_fits_'\n",
    "earlynamestring = '_qpcr_fits_trainearly_'\n",
    "\n",
    "catches = ['Stickney','Calumet','OBrien']\n",
    "prevenddate = {'positive tests':'2022-11-01', \n",
    "               'test positivity rate':'2022-04-06', \n",
    "               'hospital admissions':'2022-07-15', \n",
    "               'Cook County beds in use':'2022-09-20'}\n",
    "        \n",
    "fitwwtps = ['comb']\n",
    "allprev = ['positive tests', 'test positivity rate', 'hospital admissions', 'Cook County beds in use']\n",
    "trymodels = ['raw_data','only_flow_norm','pmmov_norm','only_bcov_norm','bcov_flow_norm','pmmov_bcov_norm','pmmov_bcov_flow_norm']\n",
    "whatiscomb = catches\n",
    "myend = '2022-01-01'\n",
    "altend = '2022-01-01'\n",
    "lags = np.arange(-10,11)\n",
    "ww_lod = 67"
   ]
  },
  {
   "cell_type": "code",
   "execution_count": 3,
   "id": "866f4240",
   "metadata": {
    "scrolled": true
   },
   "outputs": [],
   "source": [
    "wbe = pd.read_csv(wbefile, parse_dates=['date'])\n",
    "wbe.rename(columns={'wrp':'catchment','sarscov2':'raw_data'},inplace=True)\n",
    "\n",
    "prevdf = pd.read_csv(prevfile, parse_dates=['date'])\n",
    "prevdf.rename(columns={'wrp':'catchment'},inplace=True)\n",
    "\n",
    "wbe = Fix_wbe(wbe)\n"
   ]
  },
  {
   "cell_type": "code",
   "execution_count": 4,
   "id": "3dc0aebc",
   "metadata": {
    "scrolled": true
   },
   "outputs": [
    {
     "name": "stdout",
     "output_type": "stream",
     "text": [
      "Correlating: positive tests test positivity rate\n",
      "\tmax lag = 3 \tother lags =  [3 4]\n",
      "\t [0, 10]\n",
      " Possible offsets: [[3], [4]]\n",
      " wlags = [[-2, 5], [0, 10]]\n",
      "\n",
      "Correlating: positive tests hospital admissions\n",
      "\tmax lag = 2 \tother lags =  [2 3]\n",
      "\t [-1, 9]\n",
      "Correlating: test positivity rate hospital admissions\n",
      "\tmax lag = 1 \tother lags =  [0 1]\n",
      "\t [-1, 9]\n",
      " Possible offsets: [[3, 3]]\n",
      " wlags = [[-2, 5], [0, 10], [-1, 9]]\n",
      "\n",
      "Correlating: positive tests Cook County beds in use\n",
      "\tmax lag = 9 \tother lags =  [ 8  9 10]\n",
      "\t [5, 16]\n",
      "Correlating: test positivity rate Cook County beds in use\n",
      "\tmax lag = 8 \tother lags =  [7 8]\n",
      "\t [5, 16]\n",
      "Correlating: hospital admissions Cook County beds in use\n",
      "\tmax lag = 7 \tother lags =  [6 7]\n",
      "\t [5, 16]\n",
      " Possible offsets: [[3, 3, 10]]\n",
      " wlags = [[-2, 5], [0, 10], [-1, 9], [5, 16]]\n",
      "\n",
      "{'positive tests': 0, 'test positivity rate': 3, 'hospital admissions': 3, 'Cook County beds in use': 10}\n"
     ]
    },
    {
     "data": {
      "text/html": [
       "<div>\n",
       "<style scoped>\n",
       "    .dataframe tbody tr th:only-of-type {\n",
       "        vertical-align: middle;\n",
       "    }\n",
       "\n",
       "    .dataframe tbody tr th {\n",
       "        vertical-align: top;\n",
       "    }\n",
       "\n",
       "    .dataframe thead th {\n",
       "        text-align: right;\n",
       "    }\n",
       "</style>\n",
       "<table border=\"1\" class=\"dataframe\">\n",
       "  <thead>\n",
       "    <tr style=\"text-align: right;\">\n",
       "      <th></th>\n",
       "      <th>prevind</th>\n",
       "      <th>lower</th>\n",
       "      <th>upper</th>\n",
       "    </tr>\n",
       "  </thead>\n",
       "  <tbody>\n",
       "    <tr>\n",
       "      <th>0</th>\n",
       "      <td>positive tests</td>\n",
       "      <td>-2</td>\n",
       "      <td>5</td>\n",
       "    </tr>\n",
       "    <tr>\n",
       "      <th>1</th>\n",
       "      <td>test positivity rate</td>\n",
       "      <td>-3</td>\n",
       "      <td>7</td>\n",
       "    </tr>\n",
       "    <tr>\n",
       "      <th>2</th>\n",
       "      <td>hospital admissions</td>\n",
       "      <td>-4</td>\n",
       "      <td>6</td>\n",
       "    </tr>\n",
       "    <tr>\n",
       "      <th>3</th>\n",
       "      <td>Cook County beds in use</td>\n",
       "      <td>-5</td>\n",
       "      <td>6</td>\n",
       "    </tr>\n",
       "  </tbody>\n",
       "</table>\n",
       "</div>"
      ],
      "text/plain": [
       "                   prevind  lower  upper\n",
       "0           positive tests     -2      5\n",
       "1     test positivity rate     -3      7\n",
       "2      hospital admissions     -4      6\n",
       "3  Cook County beds in use     -5      6"
      ]
     },
     "metadata": {},
     "output_type": "display_data"
    }
   ],
   "source": [
    "prevlagdict,prevbounds = get_prevlags(prevdf,catches,allprev,prevenddate,'2020-08-01','2022-04-01',corthresh=0.00129,wlags=[-2,5],plotcors=False)\n"
   ]
  },
  {
   "cell_type": "code",
   "execution_count": 5,
   "id": "436f0aae",
   "metadata": {
    "scrolled": true
   },
   "outputs": [
    {
     "name": "stdout",
     "output_type": "stream",
     "text": [
      "lag: -10 , catch:  comb\n",
      "lag: -9 , catch:  comb\n",
      "lag: -8 , catch:  comb\n",
      "lag: -7 , catch:  comb\n",
      "lag: -6 , catch:  comb\n",
      "lag: -5 , catch:  comb\n",
      "lag: -4 , catch:  comb\n",
      "lag: -3 , catch:  comb\n",
      "lag: -2 , catch:  comb\n",
      "lag: -1 , catch:  comb\n",
      "lag: 0 , catch:  comb\n",
      "lag: 1 , catch:  comb\n",
      "lag: 2 , catch:  comb\n",
      "lag: 3 , catch:  comb\n",
      "lag: 4 , catch:  comb\n",
      "lag: 5 , catch:  comb\n",
      "lag: 6 , catch:  comb\n",
      "lag: 7 , catch:  comb\n",
      "lag: 8 , catch:  comb\n",
      "lag: 9 , catch:  comb\n",
      "lag: 10 , catch:  comb\n"
     ]
    }
   ],
   "source": [
    "paramdf,aicdf,pdf,aicfulldf = FitModelParameters(wbe,prevdf,fitwwtps,allprev,trymodels,whatiscomb,myend,lags,ww_lod,prevlagdict,prevenddate)"
   ]
  },
  {
   "cell_type": "code",
   "execution_count": 6,
   "id": "5d22c23f",
   "metadata": {},
   "outputs": [],
   "source": [
    "paramdf.to_csv(os.path.join(filepath,'fitparams'+namestring+todaystring+'.csv'),index=False)\n",
    "aicdf.to_csv(os.path.join(filepath,'fitaic'+namestring+todaystring+'.csv'),index=False)"
   ]
  },
  {
   "cell_type": "code",
   "execution_count": 7,
   "id": "ba8c2b59",
   "metadata": {},
   "outputs": [
    {
     "name": "stdout",
     "output_type": "stream",
     "text": [
      "_qpcr_fits_230825\n"
     ]
    }
   ],
   "source": [
    "print(namestring+todaystring)"
   ]
  },
  {
   "cell_type": "code",
   "execution_count": 8,
   "id": "5f79f8c4",
   "metadata": {},
   "outputs": [
    {
     "name": "stdout",
     "output_type": "stream",
     "text": [
      "lag: -10 , catch:  comb\n",
      "lag: -9 , catch:  comb\n",
      "lag: -8 , catch:  comb\n",
      "lag: -7 , catch:  comb\n",
      "lag: -6 , catch:  comb\n",
      "lag: -5 , catch:  comb\n",
      "lag: -4 , catch:  comb\n",
      "lag: -3 , catch:  comb\n",
      "lag: -2 , catch:  comb\n",
      "lag: -1 , catch:  comb\n",
      "lag: 0 , catch:  comb\n",
      "lag: 1 , catch:  comb\n",
      "lag: 2 , catch:  comb\n",
      "lag: 3 , catch:  comb\n",
      "lag: 4 , catch:  comb\n",
      "lag: 5 , catch:  comb\n",
      "lag: 6 , catch:  comb\n",
      "lag: 7 , catch:  comb\n",
      "lag: 8 , catch:  comb\n",
      "lag: 9 , catch:  comb\n",
      "lag: 10 , catch:  comb\n"
     ]
    }
   ],
   "source": [
    "paramdf,aicdf,pdf,aicfulldf = FitModelParameters(wbe,prevdf,fitwwtps,allprev,trymodels,whatiscomb,'2021-08-01',lags,ww_lod,prevlagdict,prevenddate,altend=altend)"
   ]
  },
  {
   "cell_type": "code",
   "execution_count": 9,
   "id": "fa13f6a0",
   "metadata": {},
   "outputs": [],
   "source": [
    "paramdf.to_csv(os.path.join(filepath,'fitparams'+earlynamestring+todaystring+'.csv'),index=False)\n",
    "aicdf.to_csv(os.path.join(filepath,'fitaic'+earlynamestring+todaystring+'.csv'),index=False)\n",
    "aicfulldf.to_csv(os.path.join(filepath,'fitfullaic'+earlynamestring+todaystring+'.csv'),index=False)"
   ]
  },
  {
   "cell_type": "code",
   "execution_count": 10,
   "id": "4c6969dc",
   "metadata": {},
   "outputs": [
    {
     "name": "stdout",
     "output_type": "stream",
     "text": [
      "_qpcr_fits_trainearly_230825\n"
     ]
    }
   ],
   "source": [
    "print(earlynamestring+todaystring)"
   ]
  },
  {
   "cell_type": "code",
   "execution_count": null,
   "id": "1576e252",
   "metadata": {},
   "outputs": [],
   "source": []
  }
 ],
 "metadata": {
  "kernelspec": {
   "display_name": "Python 3 (ipykernel)",
   "language": "python",
   "name": "python3"
  },
  "language_info": {
   "codemirror_mode": {
    "name": "ipython",
    "version": 3
   },
   "file_extension": ".py",
   "mimetype": "text/x-python",
   "name": "python",
   "nbconvert_exporter": "python",
   "pygments_lexer": "ipython3",
   "version": "3.8.13"
  }
 },
 "nbformat": 4,
 "nbformat_minor": 5
}
